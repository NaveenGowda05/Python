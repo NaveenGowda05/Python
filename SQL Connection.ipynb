{
 "cells": [
  {
   "cell_type": "code",
   "execution_count": 1,
   "id": "aa5c31d6",
   "metadata": {},
   "outputs": [
    {
     "data": {
      "text/plain": [
       "'3.38.2'"
      ]
     },
     "execution_count": 1,
     "metadata": {},
     "output_type": "execute_result"
    }
   ],
   "source": [
    "import sqlite3\n",
    "sqlite3.sqlite_version"
   ]
  },
  {
   "cell_type": "code",
   "execution_count": 4,
   "id": "e12de67a",
   "metadata": {},
   "outputs": [
    {
     "data": {
      "text/plain": [
       "sqlite3.Connection"
      ]
     },
     "execution_count": 4,
     "metadata": {},
     "output_type": "execute_result"
    }
   ],
   "source": [
    "conn=sqlite3.connect('master.sqlite3')\n",
    "type(conn)"
   ]
  },
  {
   "cell_type": "code",
   "execution_count": 6,
   "id": "82d493f3",
   "metadata": {},
   "outputs": [
    {
     "name": "stdout",
     "output_type": "stream",
     "text": [
      "Table created successfully\n"
     ]
    }
   ],
   "source": [
    "import sqlite3\n",
    "conn=sqlite3.connect('testdb.sqlite3')\n",
    "cur=conn.cursor()\n",
    "qry='''\n",
    "CREATE TABLE Employee (\n",
    "EmpID INTEGER PRIMARY KEY AUTOINCREMENT,\n",
    "FIRST_NAME TEXT (20),\n",
    "LAST_NAME TEXT(20),\n",
    "AGE INTEGER,\n",
    "SEX TEXT(1),\n",
    "INCOME FLOAT\n",
    ");\n",
    "'''\n",
    "try:\n",
    "   cur.execute(qry)\n",
    "   print ('Table created successfully')\n",
    "except:\n",
    "   print ('error in creating table')\n",
    "conn.close()"
   ]
  },
  {
   "cell_type": "code",
   "execution_count": 8,
   "id": "97f808f8",
   "metadata": {},
   "outputs": [
    {
     "name": "stdout",
     "output_type": "stream",
     "text": [
      "Record inserted successfully\n",
      "error in INSERT operation\n"
     ]
    }
   ],
   "source": [
    "import sqlite3\n",
    "conn=sqlite3.connect('testdb.sqlite3')\n",
    "cur=conn.cursor()\n",
    "qry=\"\"\"INSERT INTO EMPLOYEE(FIRST_NAME,\n",
    "   LAST_NAME, AGE, SEX, INCOME)\n",
    "   VALUES ('Mac', 'Mohan', 20, 'M', 2000)\"\"\"\n",
    "try:\n",
    "   cur.execute(qry)\n",
    "   conn.commit()\n",
    "   print ('Record inserted successfully')\n",
    "except:\n",
    "   conn.rollback()\n",
    "print ('error in INSERT operation')\n",
    "conn.close()"
   ]
  },
  {
   "cell_type": "code",
   "execution_count": 10,
   "id": "58e9fd95",
   "metadata": {},
   "outputs": [
    {
     "name": "stdout",
     "output_type": "stream",
     "text": [
      "Record inserted successfully\n"
     ]
    }
   ],
   "source": [
    "import sqlite3\n",
    "conn=sqlite3.connect('testdb.sqlite3')\n",
    "cur=conn.cursor()\n",
    "qry=\"\"\"INSERT INTO EMPLOYEE(FIRST_NAME,\n",
    "   LAST_NAME, AGE, SEX, INCOME)\n",
    "   VALUES (?, ?, ?, ?, ?)\"\"\"\n",
    "try:\n",
    "   cur.execute(qry, ('Kamal', 'Raj', 44, 'M', 5000))\n",
    "   conn.commit()\n",
    "   print ('Record inserted successfully')\n",
    "except Exception as e:\n",
    "   conn.rollback()\n",
    "   print ('error in INSERT operation')\n",
    "conn.close()"
   ]
  },
  {
   "cell_type": "code",
   "execution_count": 13,
   "id": "62e6ed03",
   "metadata": {},
   "outputs": [
    {
     "name": "stdout",
     "output_type": "stream",
     "text": [
      "fname=Mac,lname=Mohan,age=20,sex=M,income=2000.0\n",
      "fname=Kamal,lname=Raj,age=44,sex=M,income=5000.0\n",
      "fname=Kamal,lname=Raj,age=44,sex=M,income=5000.0\n"
     ]
    }
   ],
   "source": [
    "import sqlite3\n",
    "conn=sqlite3.connect('testdb.sqlite3')\n",
    "cur=conn.cursor()\n",
    "qry=\"SELECT * FROM EMPLOYEE\"\n",
    "\n",
    "try:\n",
    "   # Execute the SQL command\n",
    "   cur.execute(qry)\n",
    "   # Fetch all the rows in a list of lists.\n",
    "   results = cur.fetchall()\n",
    "   for row in results:\n",
    "      fname = row[1]\n",
    "      lname = row[2]\n",
    "      age = row[3]\n",
    "      sex = row[4]\n",
    "      income = row[5]\n",
    "      # Now print fetched result\n",
    "      print (\"fname={},lname={},age={},sex={},income={}\".format(fname, lname, age, sex, income ))\n",
    "except Exception as e:\n",
    "   print (e)\n",
    "   print (\"Error: unable to fecth data\")\n",
    "\n",
    "conn.close()"
   ]
  },
  {
   "cell_type": "code",
   "execution_count": 12,
   "id": "0b795b34",
   "metadata": {},
   "outputs": [
    {
     "name": "stdout",
     "output_type": "stream",
     "text": [
      "Records updated\n"
     ]
    }
   ],
   "source": [
    "import sqlite3\n",
    "conn=sqlite3.connect('testdb.sqlite3')\n",
    "cur=conn.cursor()\n",
    "qry=\"UPDATE EMPLOYEE SET INCOME = INCOME+1000 WHERE INCOME=?\"\n",
    "\n",
    "try:\n",
    "   # Execute the SQL command\n",
    "   cur.execute(qry, (1000,))\n",
    "   # Fetch all the rows in a list of lists.\n",
    "   conn.commit()\n",
    "   print (\"Records updated\")\n",
    "except Exception as e:\n",
    "   print (\"Error: unable to update data\")\n",
    "conn.close()"
   ]
  },
  {
   "cell_type": "code",
   "execution_count": 14,
   "id": "ee0756be",
   "metadata": {},
   "outputs": [
    {
     "name": "stdout",
     "output_type": "stream",
     "text": [
      "Records deleted\n"
     ]
    }
   ],
   "source": [
    "import sqlite3\n",
    "conn=sqlite3.connect('testdb.sqlite3')\n",
    "cur=conn.cursor()\n",
    "qry=\"DELETE FROM EMPLOYEE WHERE INCOME<?\"\n",
    "\n",
    "try:\n",
    "   # Execute the SQL command\n",
    "   cur.execute(qry, (2000,))\n",
    "   # Fetch all the rows in a list of lists.\n",
    "   conn.commit()\n",
    "   print (\"Records deleted\")\n",
    "except Exception as e:\n",
    "   print (\"Error: unable to delete data\")\n",
    "\n",
    "conn.close()"
   ]
  },
  {
   "cell_type": "code",
   "execution_count": 19,
   "id": "4b63ba0c",
   "metadata": {},
   "outputs": [],
   "source": [
    "# Prepare SQL query to DELETE required records\n",
    "import sqlite3\n",
    "conn=sqlite3.connect('testdb.sqlite3')\n",
    "cur=conn.cursor()\n",
    "sql = \"DELETE FROM EMPLOYEE WHERE AGE > ?\"\n",
    "try:\n",
    "   # Execute the SQL command\n",
    "   cur.execute(sql, (20,))\n",
    "   # Commit your changes in the database\n",
    "   conn.commit()\n",
    "except:\n",
    "   # Rollback in case there is any error\n",
    "   db.rollback()"
   ]
  },
  {
   "cell_type": "code",
   "execution_count": 21,
   "id": "d8a608db",
   "metadata": {},
   "outputs": [],
   "source": [
    "conn.commit()"
   ]
  },
  {
   "cell_type": "code",
   "execution_count": 22,
   "id": "367ebb36",
   "metadata": {},
   "outputs": [],
   "source": [
    "conn.rollback()"
   ]
  },
  {
   "cell_type": "code",
   "execution_count": null,
   "id": "3e6fa4e6",
   "metadata": {},
   "outputs": [],
   "source": []
  }
 ],
 "metadata": {
  "kernelspec": {
   "display_name": "Python 3 (ipykernel)",
   "language": "python",
   "name": "python3"
  },
  "language_info": {
   "codemirror_mode": {
    "name": "ipython",
    "version": 3
   },
   "file_extension": ".py",
   "mimetype": "text/x-python",
   "name": "python",
   "nbconvert_exporter": "python",
   "pygments_lexer": "ipython3",
   "version": "3.9.12"
  }
 },
 "nbformat": 4,
 "nbformat_minor": 5
}
