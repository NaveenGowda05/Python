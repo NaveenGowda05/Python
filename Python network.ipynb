{
 "cells": [
  {
   "cell_type": "code",
   "execution_count": 1,
   "id": "d64df5c5",
   "metadata": {},
   "outputs": [
    {
     "name": "stdout",
     "output_type": "stream",
     "text": [
      "<socket.socket fd=1360, family=AddressFamily.AF_INET, type=SocketKind.SOCK_STREAM, proto=0>\n"
     ]
    }
   ],
   "source": [
    "import socket\n",
    "s = socket.socket(socket.AF_INET, socket.SOCK_STREAM)\n",
    "print(s)"
   ]
  },
  {
   "cell_type": "code",
   "execution_count": null,
   "id": "699dfb61",
   "metadata": {},
   "outputs": [
    {
     "name": "stdout",
     "output_type": "stream",
     "text": [
      "Socket successfully created\n",
      "socket binded to 40674\n",
      "socket is listening\n"
     ]
    }
   ],
   "source": [
    "# first of all import the socket library\n",
    "import socket\n",
    "\n",
    "# next create a socket object\n",
    "s = socket.socket()\n",
    "print (\"Socket successfully created\")\n",
    "\n",
    "# reserve a port on your computer in our\n",
    "# case it is 40674 but it can be anything\n",
    "port = 40674\n",
    "\n",
    "# Next bind to the port\n",
    "# we have not typed any ip in the ip field\n",
    "# instead we have inputted an empty string\n",
    "# this makes the server listen to requests\n",
    "# coming from other computers on the network\n",
    "s.bind(('', port))\n",
    "print (\"socket binded to %s\" %(port))\n",
    "\n",
    "# put the socket into listening mode\n",
    "s.listen(5) \n",
    "print (\"socket is listening\")\n",
    "\n",
    "# a forever loop until we interrupt it or\n",
    "# an error occurs\n",
    "while True:\n",
    "\n",
    "\t# Establish connection with client.\n",
    "\tc, addr = s.accept()\n",
    "\tprint ('Got connection from', addr )\n",
    "\n",
    "\t# send a thank you message to the client.\n",
    "\tc.send(b'Thank you for connecting')\n",
    "\n",
    "\t# Close the connection with the client\n",
    "\tc.close()\n"
   ]
  },
  {
   "cell_type": "code",
   "execution_count": null,
   "id": "ca430b0c",
   "metadata": {},
   "outputs": [],
   "source": []
  },
  {
   "cell_type": "code",
   "execution_count": null,
   "id": "243fdb39",
   "metadata": {},
   "outputs": [],
   "source": []
  },
  {
   "cell_type": "code",
   "execution_count": null,
   "id": "5ec514d4",
   "metadata": {},
   "outputs": [],
   "source": []
  }
 ],
 "metadata": {
  "kernelspec": {
   "display_name": "Python 3 (ipykernel)",
   "language": "python",
   "name": "python3"
  },
  "language_info": {
   "codemirror_mode": {
    "name": "ipython",
    "version": 3
   },
   "file_extension": ".py",
   "mimetype": "text/x-python",
   "name": "python",
   "nbconvert_exporter": "python",
   "pygments_lexer": "ipython3",
   "version": "3.9.12"
  }
 },
 "nbformat": 4,
 "nbformat_minor": 5
}
