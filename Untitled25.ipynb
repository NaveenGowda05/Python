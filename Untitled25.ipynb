{
 "cells": [
  {
   "cell_type": "code",
   "execution_count": 1,
   "id": "af556a75",
   "metadata": {},
   "outputs": [
    {
     "name": "stdout",
     "output_type": "stream",
     "text": [
      "['welcome', 'to', 'the', 'python', 'program']\n"
     ]
    }
   ],
   "source": [
    "txt = \"welcome to the python program\"\n",
    "x = txt.split()\n",
    "print(x)"
   ]
  },
  {
   "cell_type": "code",
   "execution_count": 4,
   "id": "fc7daa21",
   "metadata": {},
   "outputs": [
    {
     "name": "stdout",
     "output_type": "stream",
     "text": [
      "['hello', 'my name is Kamal']\n"
     ]
    }
   ],
   "source": [
    "txt = \"hello, my name is Kamal\"\n",
    "x = txt.split(\", \")\n",
    "print(x)"
   ]
  },
  {
   "cell_type": "code",
   "execution_count": 5,
   "id": "13bf27b2",
   "metadata": {},
   "outputs": [
    {
     "name": "stdout",
     "output_type": "stream",
     "text": [
      "The given mail is valid\n",
      "The given mail is valid\n",
      "The given mail is invalid\n",
      "The given mail is invalid\n"
     ]
    }
   ],
   "source": [
    "import re  \n",
    "  \n",
    "regex = re.compile(r'([A-Za-z0-9]+[.-_])*[A-Za-z0-9]+@[A-Za-z0-9-]+(\\.[A-Z|a-z]{2,})+')  \n",
    "  \n",
    "def emailValid(email):  \n",
    "    if re.fullmatch(regex, email):  \n",
    "      print(\"The given mail is valid\")  \n",
    "    else:  \n",
    "      print(\"The given mail is invalid\")  \n",
    "        \n",
    "        \n",
    "emailValid(\"sachin.sharma@gmail.com\")  \n",
    "emailValid(\"johnsnow123@yahoo.co.uk\")  \n",
    "emailValid(\"mathew123@...uk\")  \n",
    "emailValid(\"...@domain.us\")  "
   ]
  },
  {
   "cell_type": "code",
   "execution_count": 6,
   "id": "d066e45f",
   "metadata": {},
   "outputs": [
    {
     "name": "stdout",
     "output_type": "stream",
     "text": [
      "<re.Match object; span=(0, 8), match='5-5-2024'>\n",
      "<re.Match object; span=(12, 22), match='05-05-2024'>\n"
     ]
    }
   ],
   "source": [
    "import re\n",
    "s = \"5-5-2024 or 05-05-2024 or 5/5/2024\"\n",
    "\n",
    "matches = re.finditer('\\d{1,}-\\d{1,}-\\d{4}', s)\n",
    "\n",
    "for match in matches:\n",
    "    print(match)"
   ]
  },
  {
   "cell_type": "code",
   "execution_count": 7,
   "id": "ec0e5861",
   "metadata": {},
   "outputs": [
    {
     "name": "stdout",
     "output_type": "stream",
     "text": [
      "0 ... 2 ... ab\n",
      "The number of occurrences:  1\n",
      "3 ... 5 ... ab\n",
      "The number of occurrences:  2\n",
      "5 ... 7 ... ab\n",
      "The number of occurrences:  3\n"
     ]
    }
   ],
   "source": [
    "count=0\n",
    "pattern=re.compile(\"ab\")\n",
    "matcher=pattern.finditer(\"abaababa\")\n",
    "for match in matcher :\n",
    "   count+=1\n",
    "   print(match.start(),\"...\",match.end(),\"...\", match.group())\n",
    "   print(\"The number of occurrences: \", count)"
   ]
  },
  {
   "cell_type": "code",
   "execution_count": null,
   "id": "f8fd8ef1",
   "metadata": {},
   "outputs": [],
   "source": []
  }
 ],
 "metadata": {
  "kernelspec": {
   "display_name": "Python 3 (ipykernel)",
   "language": "python",
   "name": "python3"
  },
  "language_info": {
   "codemirror_mode": {
    "name": "ipython",
    "version": 3
   },
   "file_extension": ".py",
   "mimetype": "text/x-python",
   "name": "python",
   "nbconvert_exporter": "python",
   "pygments_lexer": "ipython3",
   "version": "3.9.12"
  }
 },
 "nbformat": 4,
 "nbformat_minor": 5
}
