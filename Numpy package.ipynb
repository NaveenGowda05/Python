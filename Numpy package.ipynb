{
 "cells": [
  {
   "cell_type": "code",
   "execution_count": 1,
   "id": "e44717e4",
   "metadata": {},
   "outputs": [],
   "source": [
    "import numpy as np"
   ]
  },
  {
   "cell_type": "code",
   "execution_count": 2,
   "id": "b3a25b59",
   "metadata": {},
   "outputs": [],
   "source": [
    "np1=np.array([1,2,3,4])"
   ]
  },
  {
   "cell_type": "code",
   "execution_count": 3,
   "id": "dc62847f",
   "metadata": {},
   "outputs": [
    {
     "data": {
      "text/plain": [
       "array([1, 2, 3, 4])"
      ]
     },
     "execution_count": 3,
     "metadata": {},
     "output_type": "execute_result"
    }
   ],
   "source": [
    "np1"
   ]
  },
  {
   "cell_type": "code",
   "execution_count": 4,
   "id": "83004338",
   "metadata": {},
   "outputs": [
    {
     "data": {
      "text/plain": [
       "numpy.ndarray"
      ]
     },
     "execution_count": 4,
     "metadata": {},
     "output_type": "execute_result"
    }
   ],
   "source": [
    "type(np1)"
   ]
  },
  {
   "cell_type": "code",
   "execution_count": 6,
   "id": "066e00fd",
   "metadata": {},
   "outputs": [],
   "source": [
    "mat1 = np.array([[1,2],[3,4]])"
   ]
  },
  {
   "cell_type": "code",
   "execution_count": 7,
   "id": "e65c4803",
   "metadata": {},
   "outputs": [
    {
     "data": {
      "text/plain": [
       "array([[1, 2],\n",
       "       [3, 4]])"
      ]
     },
     "execution_count": 7,
     "metadata": {},
     "output_type": "execute_result"
    }
   ],
   "source": [
    "mat1"
   ]
  },
  {
   "cell_type": "code",
   "execution_count": 8,
   "id": "a1c1e33c",
   "metadata": {},
   "outputs": [
    {
     "data": {
      "text/plain": [
       "(4,)"
      ]
     },
     "execution_count": 8,
     "metadata": {},
     "output_type": "execute_result"
    }
   ],
   "source": [
    "np1.shape"
   ]
  },
  {
   "cell_type": "code",
   "execution_count": 10,
   "id": "4738303c",
   "metadata": {},
   "outputs": [
    {
     "data": {
      "text/plain": [
       "(2, 2)"
      ]
     },
     "execution_count": 10,
     "metadata": {},
     "output_type": "execute_result"
    }
   ],
   "source": [
    "mat1.shape"
   ]
  },
  {
   "cell_type": "code",
   "execution_count": 11,
   "id": "704a2641",
   "metadata": {},
   "outputs": [
    {
     "data": {
      "text/plain": [
       "dtype('int32')"
      ]
     },
     "execution_count": 11,
     "metadata": {},
     "output_type": "execute_result"
    }
   ],
   "source": [
    "mat1.dtype"
   ]
  },
  {
   "cell_type": "code",
   "execution_count": 12,
   "id": "24fa8783",
   "metadata": {},
   "outputs": [],
   "source": [
    "mat1[0,0] = 5"
   ]
  },
  {
   "cell_type": "code",
   "execution_count": 13,
   "id": "ecb39e6e",
   "metadata": {},
   "outputs": [
    {
     "data": {
      "text/plain": [
       "array([[5, 2],\n",
       "       [3, 4]])"
      ]
     },
     "execution_count": 13,
     "metadata": {},
     "output_type": "execute_result"
    }
   ],
   "source": [
    "mat1"
   ]
  },
  {
   "cell_type": "code",
   "execution_count": 15,
   "id": "19b45afd",
   "metadata": {},
   "outputs": [
    {
     "ename": "ValueError",
     "evalue": "invalid literal for int() with base 10: 'Stringdata'",
     "output_type": "error",
     "traceback": [
      "\u001b[1;31m---------------------------------------------------------------------------\u001b[0m",
      "\u001b[1;31mValueError\u001b[0m                                Traceback (most recent call last)",
      "Input \u001b[1;32mIn [15]\u001b[0m, in \u001b[0;36m<cell line: 1>\u001b[1;34m()\u001b[0m\n\u001b[1;32m----> 1\u001b[0m mat1[\u001b[38;5;241m0\u001b[39m,\u001b[38;5;241m0\u001b[39m] \u001b[38;5;241m=\u001b[39m \u001b[38;5;124m\"\u001b[39m\u001b[38;5;124mStringdata\u001b[39m\u001b[38;5;124m\"\u001b[39m\n",
      "\u001b[1;31mValueError\u001b[0m: invalid literal for int() with base 10: 'Stringdata'"
     ]
    }
   ],
   "source": [
    "mat1[0,0] = \"Stringdata\""
   ]
  },
  {
   "cell_type": "code",
   "execution_count": 17,
   "id": "94910807",
   "metadata": {},
   "outputs": [],
   "source": [
    "mat2 = np.arange(0,10,1)"
   ]
  },
  {
   "cell_type": "code",
   "execution_count": 18,
   "id": "52f9f5ff",
   "metadata": {},
   "outputs": [
    {
     "data": {
      "text/plain": [
       "array([0, 1, 2, 3, 4, 5, 6, 7, 8, 9])"
      ]
     },
     "execution_count": 18,
     "metadata": {},
     "output_type": "execute_result"
    }
   ],
   "source": [
    "mat2"
   ]
  },
  {
   "cell_type": "code",
   "execution_count": 19,
   "id": "1e168587",
   "metadata": {},
   "outputs": [],
   "source": [
    "mat3 = np.linspace(0,10,20)"
   ]
  },
  {
   "cell_type": "code",
   "execution_count": 20,
   "id": "11e536ce",
   "metadata": {},
   "outputs": [
    {
     "data": {
      "text/plain": [
       "array([ 0.        ,  0.52631579,  1.05263158,  1.57894737,  2.10526316,\n",
       "        2.63157895,  3.15789474,  3.68421053,  4.21052632,  4.73684211,\n",
       "        5.26315789,  5.78947368,  6.31578947,  6.84210526,  7.36842105,\n",
       "        7.89473684,  8.42105263,  8.94736842,  9.47368421, 10.        ])"
      ]
     },
     "execution_count": 20,
     "metadata": {},
     "output_type": "execute_result"
    }
   ],
   "source": [
    "mat3"
   ]
  },
  {
   "cell_type": "code",
   "execution_count": 21,
   "id": "0ea25144",
   "metadata": {},
   "outputs": [
    {
     "data": {
      "text/plain": [
       "(20,)"
      ]
     },
     "execution_count": 21,
     "metadata": {},
     "output_type": "execute_result"
    }
   ],
   "source": [
    "mat3.shape"
   ]
  },
  {
   "cell_type": "code",
   "execution_count": 22,
   "id": "3cb0764c",
   "metadata": {},
   "outputs": [],
   "source": [
    "Mat4 = np.random.rand(5,5)"
   ]
  },
  {
   "cell_type": "code",
   "execution_count": 23,
   "id": "74e13cd1",
   "metadata": {},
   "outputs": [
    {
     "data": {
      "text/plain": [
       "array([[0.62916621, 0.68716231, 0.85955375, 0.67852143, 0.1236283 ],\n",
       "       [0.77329824, 0.08872674, 0.44674831, 0.82656526, 0.45716488],\n",
       "       [0.88919888, 0.36533808, 0.18613547, 0.60536358, 0.26735809],\n",
       "       [0.16210452, 0.25893348, 0.89541256, 0.25142841, 0.00556932],\n",
       "       [0.06165075, 0.80177861, 0.29944793, 0.64858701, 0.70527512]])"
      ]
     },
     "execution_count": 23,
     "metadata": {},
     "output_type": "execute_result"
    }
   ],
   "source": [
    "Mat4"
   ]
  },
  {
   "cell_type": "code",
   "execution_count": 25,
   "id": "234e8ce8",
   "metadata": {},
   "outputs": [
    {
     "data": {
      "text/plain": [
       "array([[0.62916621, 0.68716231, 0.85955375, 0.67852143, 0.1236283 ],\n",
       "       [0.77329824, 0.08872674, 0.44674831, 0.82656526, 0.45716488],\n",
       "       [0.88919888, 0.36533808, 0.18613547, 0.60536358, 0.26735809],\n",
       "       [0.16210452, 0.25893348, 0.89541256, 0.25142841, 0.00556932],\n",
       "       [0.06165075, 0.80177861, 0.29944793, 0.64858701, 0.70527512]])"
      ]
     },
     "execution_count": 25,
     "metadata": {},
     "output_type": "execute_result"
    }
   ],
   "source": [
    "Mat4"
   ]
  },
  {
   "cell_type": "code",
   "execution_count": 26,
   "id": "3b19da08",
   "metadata": {},
   "outputs": [
    {
     "data": {
      "text/plain": [
       "<function numpy.diag(v, k=0)>"
      ]
     },
     "execution_count": 26,
     "metadata": {},
     "output_type": "execute_result"
    }
   ],
   "source": [
    "np.diag"
   ]
  },
  {
   "cell_type": "code",
   "execution_count": 27,
   "id": "45ca2996",
   "metadata": {},
   "outputs": [
    {
     "data": {
      "text/plain": [
       "<function numpy.diag(v, k=0)>"
      ]
     },
     "execution_count": 27,
     "metadata": {},
     "output_type": "execute_result"
    }
   ],
   "source": [
    "np.diag"
   ]
  },
  {
   "cell_type": "code",
   "execution_count": 28,
   "id": "b04c3455",
   "metadata": {},
   "outputs": [
    {
     "data": {
      "text/plain": [
       "<function numpy.ones(shape, dtype=None, order='C', *, like=None)>"
      ]
     },
     "execution_count": 28,
     "metadata": {},
     "output_type": "execute_result"
    }
   ],
   "source": [
    "np.ones"
   ]
  },
  {
   "cell_type": "code",
   "execution_count": 29,
   "id": "801005f0",
   "metadata": {},
   "outputs": [
    {
     "data": {
      "text/plain": [
       "0.6291662056100789"
      ]
     },
     "execution_count": 29,
     "metadata": {},
     "output_type": "execute_result"
    }
   ],
   "source": [
    "Mat4[0,0]"
   ]
  },
  {
   "cell_type": "code",
   "execution_count": 30,
   "id": "39d56f2a",
   "metadata": {},
   "outputs": [
    {
     "ename": "NameError",
     "evalue": "name 'Mat' is not defined",
     "output_type": "error",
     "traceback": [
      "\u001b[1;31m---------------------------------------------------------------------------\u001b[0m",
      "\u001b[1;31mNameError\u001b[0m                                 Traceback (most recent call last)",
      "Input \u001b[1;32mIn [30]\u001b[0m, in \u001b[0;36m<cell line: 1>\u001b[1;34m()\u001b[0m\n\u001b[1;32m----> 1\u001b[0m \u001b[43mMat\u001b[49m[\u001b[38;5;241m0.1\u001b[39m]\n",
      "\u001b[1;31mNameError\u001b[0m: name 'Mat' is not defined"
     ]
    }
   ],
   "source": [
    "Mat[0.1]"
   ]
  },
  {
   "cell_type": "code",
   "execution_count": null,
   "id": "2052de59",
   "metadata": {},
   "outputs": [],
   "source": []
  }
 ],
 "metadata": {
  "kernelspec": {
   "display_name": "Python 3 (ipykernel)",
   "language": "python",
   "name": "python3"
  },
  "language_info": {
   "codemirror_mode": {
    "name": "ipython",
    "version": 3
   },
   "file_extension": ".py",
   "mimetype": "text/x-python",
   "name": "python",
   "nbconvert_exporter": "python",
   "pygments_lexer": "ipython3",
   "version": "3.9.12"
  }
 },
 "nbformat": 4,
 "nbformat_minor": 5
}
